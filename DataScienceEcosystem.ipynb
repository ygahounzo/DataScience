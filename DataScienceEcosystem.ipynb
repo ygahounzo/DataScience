{
 "cells": [
  {
   "cell_type": "markdown",
   "id": "a4b0d529",
   "metadata": {},
   "source": [
    "# Data Science Tools and Ecosystem"
   ]
  },
  {
   "cell_type": "markdown",
   "id": "4464b85a",
   "metadata": {},
   "source": [
    "In this notebook, Data Science Tools and Ecosystem are summarized."
   ]
  },
  {
   "cell_type": "markdown",
   "id": "1484c082",
   "metadata": {},
   "source": [
    "__Objectives__:\n",
    "\n",
    "* List popular languages for Data Science\n",
    "* Commonly used libraries by Data Scientists\n",
    "* List of Data Science Tools\n",
    "* Introduction to arithmetic expressions in Python"
   ]
  },
  {
   "cell_type": "markdown",
   "id": "624ce1cb",
   "metadata": {},
   "source": [
    "Some of the popular languages that Data Scientists use are:\n",
    "1. Python\n",
    "2. R\n",
    "3. SQL\n",
    "4. Scala\n",
    "5. Java"
   ]
  },
  {
   "cell_type": "markdown",
   "id": "1a3ecf72",
   "metadata": {},
   "source": [
    "Some of the commonly used libraries used by Data Scientists include:\n",
    "1. Pandas\n",
    "2. Matplotlib\n",
    "3. Seaborn\n",
    "4. Scikit-learn\n",
    "5. Keras\n",
    "6. Pythorch"
   ]
  },
  {
   "cell_type": "markdown",
   "id": "df8ecec5",
   "metadata": {},
   "source": [
    "\n",
    "|Data Science Tools|\n",
    "------------------------\n",
    "|Hadoop File System|\n",
    "|TensorFlow lite|\n",
    "|Pixie Dust|\n",
    "\n"
   ]
  },
  {
   "cell_type": "markdown",
   "id": "9389d4a8",
   "metadata": {},
   "source": [
    "### Below are a few examples of evaluating arithmetic expressions in Python"
   ]
  },
  {
   "cell_type": "code",
   "execution_count": 2,
   "id": "4902c484",
   "metadata": {},
   "outputs": [
    {
     "data": {
      "text/plain": [
       "17"
      ]
     },
     "execution_count": 2,
     "metadata": {},
     "output_type": "execute_result"
    }
   ],
   "source": [
    "# This a simple arithmetic expression to mutiply then add integers\n",
    "(3*4)+5"
   ]
  },
  {
   "cell_type": "code",
   "execution_count": 3,
   "id": "d0cc82a8",
   "metadata": {},
   "outputs": [
    {
     "data": {
      "text/plain": [
       "3.3333333333333335"
      ]
     },
     "execution_count": 3,
     "metadata": {},
     "output_type": "execute_result"
    }
   ],
   "source": [
    "# This will convert 200 minutes to hours by diving by 60\n",
    "200/60"
   ]
  },
  {
   "cell_type": "markdown",
   "id": "749a840d",
   "metadata": {},
   "source": [
    "## Author\n",
    "Yao Gahounzo"
   ]
  },
  {
   "cell_type": "code",
   "execution_count": null,
   "id": "f8c11be9",
   "metadata": {},
   "outputs": [],
   "source": []
  }
 ],
 "metadata": {
  "kernelspec": {
   "display_name": "Python 3 (ipykernel)",
   "language": "python",
   "name": "python3"
  },
  "language_info": {
   "codemirror_mode": {
    "name": "ipython",
    "version": 3
   },
   "file_extension": ".py",
   "mimetype": "text/x-python",
   "name": "python",
   "nbconvert_exporter": "python",
   "pygments_lexer": "ipython3",
   "version": "3.8.11"
  }
 },
 "nbformat": 4,
 "nbformat_minor": 5
}
